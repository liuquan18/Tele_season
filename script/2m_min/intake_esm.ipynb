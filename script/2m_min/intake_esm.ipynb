{
 "cells": [
  {
   "cell_type": "code",
   "execution_count": null,
   "metadata": {},
   "outputs": [],
   "source": [
    "import xarray as xr"
   ]
  }
 ],
 "metadata": {
  "kernelspec": {
   "display_name": "Python 3.10.8 ('TelSeason')",
   "language": "python",
   "name": "python3"
  },
  "language_info": {
   "name": "python",
   "version": "3.10.8"
  },
  "orig_nbformat": 4,
  "vscode": {
   "interpreter": {
    "hash": "35452fd668924e6cd6f406276e52c5be25004a60d8f3c9654da69ebd0b74cd38"
   }
  }
 },
 "nbformat": 4,
 "nbformat_minor": 2
}
