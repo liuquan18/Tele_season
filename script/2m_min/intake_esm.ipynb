{
 "cells": [
  {
   "cell_type": "code",
   "execution_count": null,
   "metadata": {},
   "outputs": [
    {
     "ename": "",
     "evalue": "",
     "output_type": "error",
     "traceback": [
      "\u001b[1;31mRunning cells with 'Python 3.6.8 64-bit' requires ipykernel package.\n",
      "Run the following command to install 'ipykernel' into the Python environment. \n",
      "Command: '/bin/python3 -m pip install ipykernel -U --user --force-reinstall'"
     ]
    }
   ],
   "source": [
    "import xarray as xr\n",
    "import intake"
   ]
  },
  {
   "cell_type": "code",
   "execution_count": 2,
   "metadata": {},
   "outputs": [],
   "source": [
    "dkrz_catalog=intake.open_catalog([\"https://gitlab.dkrz.de/data-infrastructure-services/intake-esm/-/raw/master/esm-collections/cloud-access/dkrz_catalog.yaml\"])"
   ]
  },
  {
   "cell_type": "code",
   "execution_count": 4,
   "metadata": {},
   "outputs": [
    {
     "ename": "TypeError",
     "evalue": "esm_datastore.__init__() got an unexpected keyword argument 'metadata'",
     "output_type": "error",
     "traceback": [
      "\u001b[0;31m---------------------------------------------------------------------------\u001b[0m",
      "\u001b[0;31mTypeError\u001b[0m                                 Traceback (most recent call last)",
      "Cell \u001b[0;32mIn[4], line 1\u001b[0m\n\u001b[0;32m----> 1\u001b[0m esm_col\u001b[38;5;241m=\u001b[39m\u001b[43mdkrz_catalog\u001b[49m\u001b[38;5;241;43m.\u001b[39;49m\u001b[43mdkrz_cmip6_disk\u001b[49m\n\u001b[1;32m      2\u001b[0m \u001b[38;5;28mprint\u001b[39m(esm_col)\n",
      "File \u001b[0;32m~/miniconda3/envs/TelSeason/lib/python3.10/site-packages/intake/catalog/base.py:391\u001b[0m, in \u001b[0;36mCatalog.__getattr__\u001b[0;34m(self, item)\u001b[0m\n\u001b[1;32m    388\u001b[0m \u001b[39mif\u001b[39;00m \u001b[39mnot\u001b[39;00m item\u001b[39m.\u001b[39mstartswith(\u001b[39m'\u001b[39m\u001b[39m_\u001b[39m\u001b[39m'\u001b[39m):\n\u001b[1;32m    389\u001b[0m     \u001b[39m# Fall back to __getitem__.\u001b[39;00m\n\u001b[1;32m    390\u001b[0m     \u001b[39mtry\u001b[39;00m:\n\u001b[0;32m--> 391\u001b[0m         \u001b[39mreturn\u001b[39;00m \u001b[39mself\u001b[39;49m[item]  \u001b[39m# triggers reload_on_change\u001b[39;00m\n\u001b[1;32m    392\u001b[0m     \u001b[39mexcept\u001b[39;00m \u001b[39mKeyError\u001b[39;00m \u001b[39mas\u001b[39;00m e:\n\u001b[1;32m    393\u001b[0m         \u001b[39mraise\u001b[39;00m \u001b[39mAttributeError\u001b[39;00m(item) \u001b[39mfrom\u001b[39;00m \u001b[39me\u001b[39;00m\n",
      "File \u001b[0;32m~/miniconda3/envs/TelSeason/lib/python3.10/site-packages/intake/catalog/base.py:436\u001b[0m, in \u001b[0;36mCatalog.__getitem__\u001b[0;34m(self, key)\u001b[0m\n\u001b[1;32m    427\u001b[0m \u001b[39m\"\"\"Return a catalog entry by name.\u001b[39;00m\n\u001b[1;32m    428\u001b[0m \n\u001b[1;32m    429\u001b[0m \u001b[39mCan also use attribute syntax, like ``cat.entry_name``, or\u001b[39;00m\n\u001b[0;32m   (...)\u001b[0m\n\u001b[1;32m    432\u001b[0m \u001b[39mcat['name1', 'name2']\u001b[39;00m\n\u001b[1;32m    433\u001b[0m \u001b[39m\"\"\"\u001b[39;00m\n\u001b[1;32m    434\u001b[0m \u001b[39mif\u001b[39;00m \u001b[39mnot\u001b[39;00m \u001b[39misinstance\u001b[39m(key, \u001b[39mlist\u001b[39m) \u001b[39mand\u001b[39;00m key \u001b[39min\u001b[39;00m \u001b[39mself\u001b[39m:\n\u001b[1;32m    435\u001b[0m     \u001b[39m# triggers reload_on_change\u001b[39;00m\n\u001b[0;32m--> 436\u001b[0m     s \u001b[39m=\u001b[39m \u001b[39mself\u001b[39;49m\u001b[39m.\u001b[39;49m_get_entry(key)\n\u001b[1;32m    437\u001b[0m     \u001b[39mif\u001b[39;00m s\u001b[39m.\u001b[39mcontainer \u001b[39m==\u001b[39m \u001b[39m'\u001b[39m\u001b[39mcatalog\u001b[39m\u001b[39m'\u001b[39m:\n\u001b[1;32m    438\u001b[0m         s\u001b[39m.\u001b[39mname \u001b[39m=\u001b[39m key\n",
      "File \u001b[0;32m~/miniconda3/envs/TelSeason/lib/python3.10/site-packages/intake/catalog/utils.py:45\u001b[0m, in \u001b[0;36mreload_on_change.<locals>.wrapper\u001b[0;34m(self, *args, **kwargs)\u001b[0m\n\u001b[1;32m     42\u001b[0m \u001b[39m@functools\u001b[39m\u001b[39m.\u001b[39mwraps(f)\n\u001b[1;32m     43\u001b[0m \u001b[39mdef\u001b[39;00m \u001b[39mwrapper\u001b[39m(\u001b[39mself\u001b[39m, \u001b[39m*\u001b[39margs, \u001b[39m*\u001b[39m\u001b[39m*\u001b[39mkwargs):\n\u001b[1;32m     44\u001b[0m     \u001b[39mself\u001b[39m\u001b[39m.\u001b[39mreload()\n\u001b[0;32m---> 45\u001b[0m     \u001b[39mreturn\u001b[39;00m f(\u001b[39mself\u001b[39;49m, \u001b[39m*\u001b[39;49margs, \u001b[39m*\u001b[39;49m\u001b[39m*\u001b[39;49mkwargs)\n",
      "File \u001b[0;32m~/miniconda3/envs/TelSeason/lib/python3.10/site-packages/intake/catalog/base.py:323\u001b[0m, in \u001b[0;36mCatalog._get_entry\u001b[0;34m(self, name)\u001b[0m\n\u001b[1;32m    321\u001b[0m ups \u001b[39m=\u001b[39m [up \u001b[39mfor\u001b[39;00m name, up \u001b[39min\u001b[39;00m \u001b[39mself\u001b[39m\u001b[39m.\u001b[39muser_parameters\u001b[39m.\u001b[39mitems() \u001b[39mif\u001b[39;00m name \u001b[39mnot\u001b[39;00m \u001b[39min\u001b[39;00m up_names]\n\u001b[1;32m    322\u001b[0m entry\u001b[39m.\u001b[39m_user_parameters \u001b[39m=\u001b[39m ups \u001b[39m+\u001b[39m (entry\u001b[39m.\u001b[39m_user_parameters \u001b[39mor\u001b[39;00m [])\n\u001b[0;32m--> 323\u001b[0m \u001b[39mreturn\u001b[39;00m entry()\n",
      "File \u001b[0;32m~/miniconda3/envs/TelSeason/lib/python3.10/site-packages/intake/catalog/entry.py:77\u001b[0m, in \u001b[0;36mCatalogEntry.__call__\u001b[0;34m(self, persist, **kwargs)\u001b[0m\n\u001b[1;32m     75\u001b[0m     \u001b[39mraise\u001b[39;00m \u001b[39mValueError\u001b[39;00m(\u001b[39m'\u001b[39m\u001b[39mPersist value (\u001b[39m\u001b[39m%s\u001b[39;00m\u001b[39m) not understood\u001b[39m\u001b[39m'\u001b[39m \u001b[39m%\u001b[39m persist)\n\u001b[1;32m     76\u001b[0m persist \u001b[39m=\u001b[39m persist \u001b[39mor\u001b[39;00m \u001b[39mself\u001b[39m\u001b[39m.\u001b[39m_pmode\n\u001b[0;32m---> 77\u001b[0m s \u001b[39m=\u001b[39m \u001b[39mself\u001b[39;49m\u001b[39m.\u001b[39;49mget(\u001b[39m*\u001b[39;49m\u001b[39m*\u001b[39;49mkwargs)\n\u001b[1;32m     78\u001b[0m \u001b[39mif\u001b[39;00m persist \u001b[39m!=\u001b[39m \u001b[39m'\u001b[39m\u001b[39mnever\u001b[39m\u001b[39m'\u001b[39m \u001b[39mand\u001b[39;00m \u001b[39misinstance\u001b[39m(s, PersistMixin) \u001b[39mand\u001b[39;00m s\u001b[39m.\u001b[39mhas_been_persisted:\n\u001b[1;32m     79\u001b[0m     \u001b[39mfrom\u001b[39;00m \u001b[39m.\u001b[39;00m\u001b[39m.\u001b[39;00m\u001b[39mcontainer\u001b[39;00m\u001b[39m.\u001b[39;00m\u001b[39mpersist\u001b[39;00m \u001b[39mimport\u001b[39;00m store\n",
      "File \u001b[0;32m~/miniconda3/envs/TelSeason/lib/python3.10/site-packages/intake/catalog/local.py:290\u001b[0m, in \u001b[0;36mLocalCatalogEntry.get\u001b[0;34m(self, **user_parameters)\u001b[0m\n\u001b[1;32m    287\u001b[0m     \u001b[39mreturn\u001b[39;00m \u001b[39mself\u001b[39m\u001b[39m.\u001b[39m_default_source\n\u001b[1;32m    289\u001b[0m plugin, open_args \u001b[39m=\u001b[39m \u001b[39mself\u001b[39m\u001b[39m.\u001b[39m_create_open_args(user_parameters)\n\u001b[0;32m--> 290\u001b[0m data_source \u001b[39m=\u001b[39m plugin(\u001b[39m*\u001b[39;49m\u001b[39m*\u001b[39;49mopen_args)\n\u001b[1;32m    291\u001b[0m data_source\u001b[39m.\u001b[39mcatalog_object \u001b[39m=\u001b[39m \u001b[39mself\u001b[39m\u001b[39m.\u001b[39m_catalog\n\u001b[1;32m    292\u001b[0m data_source\u001b[39m.\u001b[39mname \u001b[39m=\u001b[39m \u001b[39mself\u001b[39m\u001b[39m.\u001b[39mname\n",
      "\u001b[0;31mTypeError\u001b[0m: esm_datastore.__init__() got an unexpected keyword argument 'metadata'"
     ]
    }
   ],
   "source": [
    "esm_col=dkrz_catalog.dkrz_cmip6_disk\n",
    "print(esm_col)"
   ]
  },
  {
   "cell_type": "code",
   "execution_count": null,
   "metadata": {},
   "outputs": [],
   "source": []
  }
 ],
 "metadata": {
  "kernelspec": {
   "display_name": "Python 3.6.8 64-bit",
   "language": "python",
   "name": "python3"
  },
  "language_info": {
   "codemirror_mode": {
    "name": "ipython",
    "version": 3
   },
   "file_extension": ".py",
   "mimetype": "text/x-python",
   "name": "python",
   "nbconvert_exporter": "python",
   "pygments_lexer": "ipython3",
   "version": "3.6.8"
  },
  "orig_nbformat": 4,
  "vscode": {
   "interpreter": {
    "hash": "916dbcbb3f70747c44a77c7bcd40155683ae19c65e1c03b4aa3499c5328201f1"
   }
  }
 },
 "nbformat": 4,
 "nbformat_minor": 2
}
